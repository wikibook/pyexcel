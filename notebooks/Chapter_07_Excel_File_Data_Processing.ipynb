{
 "cells": [
  {
   "cell_type": "markdown",
   "metadata": {},
   "source": [
    "# 7장 엑셀 파일과 데이터 다루기"
   ]
  },
  {
   "cell_type": "markdown",
   "metadata": {},
   "source": [
    "## 7.1 파이썬을 이용한 엑셀 파일 처리 과정"
   ]
  },
  {
   "cell_type": "markdown",
   "metadata": {},
   "source": [
    "## 7.2 엑셀 파일 통합"
   ]
  },
  {
   "cell_type": "markdown",
   "metadata": {},
   "source": [
    "### 효율적인 데이터 처리를 위한 엑셀 데이터 구조"
   ]
  },
  {
   "cell_type": "markdown",
   "metadata": {},
   "source": [
    "### 여러 엑셀 파일을 하나로 통합하기"
   ]
  },
  {
   "cell_type": "markdown",
   "metadata": {},
   "source": [
    "**[7장: 335페이지]**"
   ]
  },
  {
   "cell_type": "code",
   "execution_count": null,
   "metadata": {},
   "outputs": [],
   "source": [
    "from pathlib import Path\n",
    "\n",
    "input_folder = 'C:/myPyExcel/data/ch07/sales_data/input' # 원본 데이터 폴더\n",
    "raw_data_dir = Path(input_folder)\n",
    "excel_files = raw_data_dir.glob('상반기_제품_판매량_*')  # 폴더 내 데이터 파일 이름 \n",
    "\n",
    "for excel_file in excel_files:\n",
    "    print(excel_file) # 원본 데이터 파일 경로 출력"
   ]
  },
  {
   "cell_type": "markdown",
   "metadata": {},
   "source": [
    "**[7장: 336페이지]**"
   ]
  },
  {
   "cell_type": "code",
   "execution_count": null,
   "metadata": {
    "scrolled": true
   },
   "outputs": [],
   "source": [
    "import pandas as pd\n",
    "from pathlib import Path\n",
    "\n",
    "input_folder = 'C:/myPyExcel/data/ch07/sales_data/input' # 원본 데이터 폴더\n",
    "raw_data_dir = Path(input_folder)\n",
    "excel_files = raw_data_dir.glob('상반기_제품_판매량_*')  # 폴더 내 데이터 파일 이름 \n",
    "\n",
    "total_df = pd.DataFrame() # 빈 DataFrame 생성\n",
    "\n",
    "for excel_file in excel_files:\n",
    "    # 각 엑셀 파일의 데이터 가져오기\n",
    "    df = pd.read_excel(excel_file)\n",
    "    # 세로 방향으로 연결하기. 순차적으로 index 증가\n",
    "    total_df = total_df.append(df, ignore_index= True)\n",
    "\n",
    "total_df # 통합한 DataFrame 데이터 출력"
   ]
  },
  {
   "cell_type": "markdown",
   "metadata": {},
   "source": [
    "**[7장: 337페이지]**"
   ]
  },
  {
   "cell_type": "code",
   "execution_count": null,
   "metadata": {},
   "outputs": [],
   "source": [
    "# 생성할 통합 엑셀 파일 경로 지정\n",
    "folder = 'C:/myPyExcel/data/ch07/sales_data/' \n",
    "merged_excel_file = folder + '상반기_제품_판매량_통합.xlsx' \n",
    "\n",
    "# DataFrame 데이터(total_df)를 생성한 엑셀 객체에 쓰기(옵션 지정)\n",
    "total_df.to_excel(merged_excel_file, # 엑셀 파일 이름 \n",
    "                  sheet_name='상반기_제품_판매량_통합', # 시트 이름 지정 \n",
    "                  index=False)      # DataFrame 데이터 index는 출력 안함\n",
    "\n",
    "print(\"생성 파일:\", merged_excel_file) # 생성한 엑셀 파일 경로"
   ]
  },
  {
   "cell_type": "markdown",
   "metadata": {},
   "source": [
    "**[7장: 338페이지]**"
   ]
  },
  {
   "cell_type": "code",
   "execution_count": null,
   "metadata": {
    "scrolled": true
   },
   "outputs": [],
   "source": [
    "import pandas as pd\n",
    "import numpy as np\n",
    "from pathlib import Path\n",
    "import xlwings as xw\n",
    "\n",
    "input_folder = 'C:/myPyExcel/data/ch07/sales_data/input'\n",
    "raw_data_dir = Path(input_folder)\n",
    "excel_files = raw_data_dir.glob('상반기_제품_판매량_*')\n",
    "\n",
    "total_df2 = pd.DataFrame()  # 빈 DataFrame 생성\n",
    "\n",
    "for excel_file in excel_files:\n",
    "    # 각 엑셀 파일의 데이터 가져오기\n",
    "    wb = xw.Book(excel_file) # 기존에 있는 엑셀 파일(excel_file) 열기\n",
    "    sht = wb.sheets['Sheet1'] # 워크시트 지정\n",
    "    \n",
    "    # 셀 주소 'A1'부터 표 데이터를 판다스 DataFrame 데이터로 읽기\n",
    "    df = sht.range('A1').options(pd.DataFrame,   \n",
    "                                 expand='table', \n",
    "                                 index=False).value  \n",
    "    wb.close() # 워크북 객체 닫기\n",
    "    \n",
    "    # 세로 방향으로 연결하기. 순차적으로 index 증가\n",
    "    total_df2 = total_df2.append(df, ignore_index=True)\n",
    "\n",
    "total_df2 # 통합한 DataFrame 데이터 출력"
   ]
  },
  {
   "cell_type": "markdown",
   "metadata": {},
   "source": [
    "**[7장: 339페이지]**"
   ]
  },
  {
   "cell_type": "code",
   "execution_count": null,
   "metadata": {},
   "outputs": [],
   "source": [
    "month = ['1월','2월','3월','4월','5월','6월'] # DataFrame 데이터의 열 이름 지정\n",
    "total_df2[month] = total_df2[month].astype(np.int) # 열 데이터를 정수로 변환\n",
    "total_df2"
   ]
  },
  {
   "cell_type": "markdown",
   "metadata": {},
   "source": [
    "## 7.3 엑셀 데이터 필터링과 계산"
   ]
  },
  {
   "cell_type": "markdown",
   "metadata": {},
   "source": [
    "### 데이터 필터링"
   ]
  },
  {
   "cell_type": "markdown",
   "metadata": {},
   "source": [
    "**[7장: 342페이지]**"
   ]
  },
  {
   "cell_type": "code",
   "execution_count": null,
   "metadata": {
    "scrolled": false
   },
   "outputs": [],
   "source": [
    "import pandas as pd\n",
    "\n",
    "# 엑셀 파일 경로 지정\n",
    "folder = 'C:/myPyExcel/data/ch07/sales_data/' \n",
    "excel_file = folder + '상반기_제품_판매량_통합.xlsx' \n",
    "\n",
    "df = pd.read_excel(excel_file)    \n",
    "df"
   ]
  },
  {
   "cell_type": "code",
   "execution_count": null,
   "metadata": {
    "scrolled": true
   },
   "outputs": [],
   "source": [
    "df[df['제품명'] == '스마트폰']"
   ]
  },
  {
   "cell_type": "markdown",
   "metadata": {},
   "source": [
    "**[7장: 343페이지]**"
   ]
  },
  {
   "cell_type": "code",
   "execution_count": null,
   "metadata": {},
   "outputs": [],
   "source": [
    "df[ (df['제품명'] == '스마트폰') | (df['제품명'] == 'TV') ]"
   ]
  },
  {
   "cell_type": "code",
   "execution_count": null,
   "metadata": {},
   "outputs": [],
   "source": [
    "df[df['제품명'].isin(['스마트폰'])]"
   ]
  },
  {
   "cell_type": "code",
   "execution_count": null,
   "metadata": {
    "scrolled": true
   },
   "outputs": [],
   "source": [
    "df[df['제품명'].isin(['스마트폰', 'TV'])]"
   ]
  },
  {
   "cell_type": "markdown",
   "metadata": {},
   "source": [
    "### 데이터 계산"
   ]
  },
  {
   "cell_type": "markdown",
   "metadata": {},
   "source": [
    "**[7장: 344페이지]**"
   ]
  },
  {
   "cell_type": "code",
   "execution_count": null,
   "metadata": {},
   "outputs": [],
   "source": [
    "import pandas as pd\n",
    "\n",
    "# 엑셀 파일 경로 지정\n",
    "folder = 'C:/myPyExcel/data/ch07/sales_data/' \n",
    "excel_file = folder + '상반기_제품_판매량_통합.xlsx' \n",
    "\n",
    "df = pd.read_excel(excel_file)    \n",
    "df"
   ]
  },
  {
   "cell_type": "markdown",
   "metadata": {},
   "source": [
    "**[7장: 345페이지]**"
   ]
  },
  {
   "cell_type": "code",
   "execution_count": null,
   "metadata": {
    "scrolled": true
   },
   "outputs": [],
   "source": [
    "df_sum = df.sum(axis=1)\n",
    "df_sum"
   ]
  },
  {
   "cell_type": "markdown",
   "metadata": {},
   "source": [
    "**[7장: 346페이지]**"
   ]
  },
  {
   "cell_type": "code",
   "execution_count": null,
   "metadata": {},
   "outputs": [],
   "source": [
    "df['상반기합계'] = df_sum\n",
    "df"
   ]
  },
  {
   "cell_type": "markdown",
   "metadata": {},
   "source": [
    "**[7장: 347페이지]**"
   ]
  },
  {
   "cell_type": "code",
   "execution_count": null,
   "metadata": {},
   "outputs": [],
   "source": [
    "df_filter = df[df['제품명'] == '스마트폰']\n",
    "df_filter"
   ]
  },
  {
   "cell_type": "code",
   "execution_count": null,
   "metadata": {},
   "outputs": [],
   "source": [
    "df_filter_sum = df_filter.sum() # df_filter.sum(axis=0) 도 동일\n",
    "df_filter_sum"
   ]
  },
  {
   "cell_type": "code",
   "execution_count": null,
   "metadata": {},
   "outputs": [],
   "source": [
    "df_filter_sum['제품명'] = '스마트폰'\n",
    "df_filter_sum['담당자'] = '전체'\n",
    "df_filter_sum['지역'] = '전체'\n",
    "df_filter_sum"
   ]
  },
  {
   "cell_type": "markdown",
   "metadata": {},
   "source": [
    "**[7장: 348페이지]**"
   ]
  },
  {
   "cell_type": "code",
   "execution_count": null,
   "metadata": {},
   "outputs": [],
   "source": [
    "df_filter_sum_total = df_filter.append(df_filter_sum, ignore_index=True)\n",
    "df_filter_sum_total"
   ]
  },
  {
   "cell_type": "markdown",
   "metadata": {},
   "source": [
    "**[7장: 348~349페이지]**"
   ]
  },
  {
   "cell_type": "code",
   "execution_count": null,
   "metadata": {},
   "outputs": [],
   "source": [
    "import pandas as pd \n",
    "    \n",
    "def product_sum(df_prod, product_name):\n",
    "    \n",
    "    # 행별 합계 구하고 열에 추가\n",
    "    df_prod['상반기합계'] = df_prod.sum(axis=1)   \n",
    "    \n",
    "    # 제품명이 지정한 이름과 같은 행만 필터링(선택)\n",
    "    df_prod_filter = df_prod[df_prod['제품명'] == product_name]\n",
    "    \n",
    "    # 필터링된 행에 대해 열별 합계 구하기\n",
    "    df_prod_filter_sum = df_prod_filter.sum()    \n",
    "    \n",
    "    # df_prod_filter_sum의 제품명 지정\n",
    "    df_prod_filter_sum['제품명'] = product_name\n",
    "    # df_prod_filter_sum의 담당자 지정 \n",
    "    df_prod_filter_sum['담당자'] = '전체'  \n",
    "    # df_prod_filter_sum의 지역 지정\n",
    "    df_prod_filter_sum['지역'] = '전체'\n",
    "    \n",
    "    # df_prod_filter 마지막 행에 df_prod_filter_sum 추가 후 새 DataFrame 데이터 생성 \n",
    "    df_prod_filter_sum_total = df_prod_filter.append(df_prod_filter_sum,\n",
    "                                                     ignore_index=True)\n",
    "    \n",
    "    return df_prod_filter_sum_total  # 결과를 반환"
   ]
  },
  {
   "cell_type": "markdown",
   "metadata": {},
   "source": [
    "**[7장: 349페이지]**"
   ]
  },
  {
   "cell_type": "code",
   "execution_count": null,
   "metadata": {
    "scrolled": true
   },
   "outputs": [],
   "source": [
    "import pandas as pd\n",
    "\n",
    "# 엑셀 파일 경로 지정\n",
    "folder = 'C:/myPyExcel/data/ch07/sales_data/' \n",
    "excel_file = folder + '상반기_제품_판매량_통합.xlsx' \n",
    "\n",
    "df_prod = pd.read_excel(excel_file)    \n",
    "\n",
    "product_names = [\"스마트폰\", \"TV\", \"냉장고\"]\n",
    "\n",
    "for product_name in product_names:\n",
    "    df_prod_sum = product_sum(df_prod, product_name)\n",
    "    print(df_prod_sum)"
   ]
  },
  {
   "cell_type": "markdown",
   "metadata": {},
   "source": [
    "**[7장: 350~351페이지]**"
   ]
  },
  {
   "cell_type": "code",
   "execution_count": null,
   "metadata": {},
   "outputs": [],
   "source": [
    "import pandas as pd\n",
    "\n",
    "# 엑셀 파일 읽기\n",
    "folder = 'C:/myPyExcel/data/ch07/sales_data/'              # 데이터 폴더 지정 \n",
    "excel_file_in = folder + '상반기_제품_판매량_통합.xlsx'    # 읽어올 엑셀 파일\n",
    "\n",
    "df_prod = pd.read_excel(excel_file_in) # 엑셀 파일 DataFrame 데이터로 읽기  \n",
    "\n",
    "# 엑셀 파일 쓰기\n",
    "excel_file_out = folder + '상반기_제품별_판매량_합계.xlsx' # 쓰기할 엑셀 파일\n",
    "\n",
    "# 1) ExcelWriter 객체 생성\n",
    "excel_writer = pd.ExcelWriter(excel_file_out, engine='xlsxwriter') \n",
    "\n",
    "# 2) 워크북 생성\n",
    "workbook = excel_writer.book\n",
    "\n",
    "# 3) 서식 객체 생성\n",
    "title_format = workbook.add_format({           # 각 워크시트 제목의 셀 서식 지정\n",
    "                        'bold': True,         # 텍스트 굵게\n",
    "                        'font_size': 20,       # 글꼴 크기 20으로\n",
    "                        'align': 'center',     # 가로 맞춤 가운데\n",
    "                        'valign': 'vcenter'})  # 세로 맞춤 가운데\n",
    "\n",
    "product_names = [\"스마트폰\", \"TV\", \"냉장고\"]   # 제품명 중 선택할 제품 지정\n",
    "\n",
    "# 4) 각 제품별로 product_sum() 함수를 부르고 결과를 개별 워크시트에 쓰기 수행\n",
    "for product_name in product_names:\n",
    "    \n",
    "    # 행 방향과 열 방향 합계 구하기\n",
    "    df_prod_sum = product_sum(df_prod, product_name)\n",
    "\n",
    "    # DataFrame 데이터를 엑셀 워크 시트로 출력\n",
    "    df_prod_sum.to_excel(excel_writer, \n",
    "                         sheet_name=product_name, # 시트 이름을 지정\n",
    "                         index=False,            # index는 출력 안함\n",
    "                         startrow=2)              # 시작 행 번호 지정\n",
    "    \n",
    "    # 엑셀 워크 시트의 셀에 제목 출력\n",
    "    worksheet = excel_writer.sheets[product_name] # 쓰기를 수행할 워크 시트 지정\n",
    "    title_string = \"상반기 판매량 합계: {}\".format(product_name) # 제목 문자열\n",
    "    worksheet.write('E1', title_string, title_format) # 셀 'E1'에 서식 지정 쓰기\n",
    "    \n",
    "# 5) ExcelWriter 객체를 닫고 엑셀 파일로 저장\n",
    "excel_writer.save() \n",
    "\n",
    "print(\"출력 엑셀 파일:\", excel_file_out)"
   ]
  },
  {
   "cell_type": "markdown",
   "metadata": {},
   "source": [
    "### 여러 엑셀 파일에 적용하기"
   ]
  },
  {
   "cell_type": "markdown",
   "metadata": {},
   "source": [
    "**[7장: 353페이지]**"
   ]
  },
  {
   "cell_type": "code",
   "execution_count": null,
   "metadata": {
    "scrolled": true
   },
   "outputs": [],
   "source": [
    "import pandas as pd\n",
    "\n",
    "# 엑셀 파일 읽기\n",
    "folder = 'C:/myPyExcel/data/ch07/sales_data/input/' # 입력 데이터 폴더 지정 \n",
    "excel_file = folder + '상반기_제품_판매량_이재정.xlsx' # 읽어올 엑셀 파일\n",
    "\n",
    "df = pd.read_excel(excel_file)    \n",
    "df"
   ]
  },
  {
   "cell_type": "code",
   "execution_count": null,
   "metadata": {
    "scrolled": true
   },
   "outputs": [],
   "source": [
    "df['합계'] = df.sum(axis=1)\n",
    "df"
   ]
  },
  {
   "cell_type": "markdown",
   "metadata": {},
   "source": [
    "**[7장: 354페이지]**"
   ]
  },
  {
   "cell_type": "code",
   "execution_count": null,
   "metadata": {},
   "outputs": [],
   "source": [
    "# 엑셀 파일 쓰기\n",
    "folder = 'C:/myPyExcel/data/ch07/sales_data/'           # 출력 폴더 지정 \n",
    "excel_file = folder + '상반기_판매량_이재정_합계.xlsx'  # 출력할 엑셀 파일\n",
    " \n",
    "df.to_excel(excel_file, index=False)\n",
    "\n",
    "print(\"생성 파일:\", excel_file) # 생성한 파일 이름 출력"
   ]
  },
  {
   "cell_type": "markdown",
   "metadata": {},
   "source": [
    "**[7장: 354~355페이지]**"
   ]
  },
  {
   "cell_type": "code",
   "execution_count": null,
   "metadata": {},
   "outputs": [],
   "source": [
    "import pandas as pd\n",
    "from pathlib import Path\n",
    "\n",
    "# 함수명: add_sum\n",
    "# 역할: 엑셀 파일을 입력하면 처리 후 지정한 출력 디렉터리에 엑셀 파일로 출력\n",
    "# 입력인자: excel_file (엑셀 파일, 경로 포함), output_dir (출력 디렉터리)\n",
    "\n",
    "def add_sum(excel_file, output_dir): \n",
    "    df = pd.read_excel(excel_file) # DataFrame으로 읽기\n",
    "    df['합계'] = df.sum(axis=1)    # '합계'열 추가\n",
    "    \n",
    "    # 새로운 파일이름 생성\n",
    "    new_file_name = excel_file.stem + \"_합계_제목_추가\" +  \".xlsx\" \n",
    "    output_excel_file = Path(output_dir + new_file_name) # 생성할 엑셀 파일 경로\n",
    "\n",
    "    # ExcelWriter 객체 생성\n",
    "    excel_writer = pd.ExcelWriter(output_excel_file, engine='xlsxwriter') \n",
    "    # ExcelWriter로부터 객체(excel_writer)에서 워크북 생성\n",
    "    workbook  = excel_writer.book \n",
    "\n",
    "    # 서식 지정\n",
    "    title_format = workbook.add_format({       # 각 워크시트 제목의 셀 서식 지정\n",
    "                        'bold': True,          # 텍스트 굵게\n",
    "                        'font_size': 20,       # 글꼴 크기 20으로\n",
    "                        'align': 'center',     # 가로 맞춤 가운데\n",
    "                        'valign': 'vcenter'})  # 세로 맞춤 가운데\n",
    "\n",
    "    # DataFrame 데이터를 엑셀 워크 시트로 출력\n",
    "    df.to_excel(excel_writer, sheet_name='Sheet1', index=False, startrow=2)\n",
    "\n",
    "    # 엑셀 워크 시트의 셀에 제목 출력(서식 지정)\n",
    "    worksheet = excel_writer.sheets['Sheet1'] # 쓰기를 수행할 워크 시트 지정\n",
    "    title_string = \"판매량 합계: {}\".format(df['담당자'][0]) # 제목 문자열 생성\n",
    "    worksheet.write('E1', title_string, title_format)        # 지정한 셀(E1)에 쓰기\n",
    "\n",
    "    # ExcelWriter 객체를 닫고 엑셀 파일로 저장\n",
    "    excel_writer.save() \n",
    "    \n",
    "    return output_excel_file"
   ]
  },
  {
   "cell_type": "markdown",
   "metadata": {},
   "source": [
    "**[7장: 355~356페이지]**"
   ]
  },
  {
   "cell_type": "code",
   "execution_count": null,
   "metadata": {},
   "outputs": [],
   "source": [
    "import pandas as pd\n",
    "from pathlib import Path\n",
    "\n",
    "input_dir = Path('C:/myPyExcel/data/ch07/sales_data/input') # 원본 디렉터리\n",
    "excel_files = input_dir.glob('상반기_제품_판매량_*')        # 원본 엑셀 파일 경로\n",
    "\n",
    "output_dir = 'C:/myPyExcel/data/ch07/sales_data/output/'    # 엑셀 파일 출력 디렉터리\n",
    "\n",
    "print(\"[출력 디렉터리]\", output_dir)\n",
    "for excel_file in excel_files:\n",
    "    output_excel_file = add_sum(excel_file, output_dir)\n",
    "    print(\"[출력 파일]\", output_excel_file.name)            # 엑셀 파일 이름 출력"
   ]
  },
  {
   "cell_type": "markdown",
   "metadata": {},
   "source": [
    "## 7.4 알아두면 유용한 엑셀 함수를 파이썬으로 처리하기"
   ]
  },
  {
   "cell_type": "markdown",
   "metadata": {},
   "source": [
    "### 지정한 범위에서 데이터 찾아서 가져오기"
   ]
  },
  {
   "cell_type": "markdown",
   "metadata": {},
   "source": [
    "**[7장: 359페이지]**"
   ]
  },
  {
   "cell_type": "code",
   "execution_count": null,
   "metadata": {
    "scrolled": true
   },
   "outputs": [],
   "source": [
    "import pandas as pd\n",
    "\n",
    "# 엑셀 파일 읽기\n",
    "folder = 'C:/myPyExcel/data/ch07/func_data/' # 폴더 지정 \n",
    "excel_file = folder + '주문내역_샘플.xlsx' # 읽어올 엑셀 파일\n",
    "\n",
    "# 엑셀 파일 데이터를 DataFrame 데이터로 읽어 오기\n",
    "df = pd.read_excel(excel_file) \n",
    "df"
   ]
  },
  {
   "cell_type": "markdown",
   "metadata": {},
   "source": [
    "**[7장: 360페이지]**"
   ]
  },
  {
   "cell_type": "code",
   "execution_count": null,
   "metadata": {},
   "outputs": [],
   "source": [
    "# 엑셀 파일 읽기\n",
    "excel_file = folder + '주문내역_참조데이터.xlsx' # 읽어올 엑셀 파일\n",
    "df_ref = pd.read_excel(excel_file) # 엑셀 파일을 DataFrame 데이터로 읽기\n",
    "df_ref"
   ]
  },
  {
   "cell_type": "markdown",
   "metadata": {},
   "source": [
    "**[7장: 361페이지]**"
   ]
  },
  {
   "cell_type": "code",
   "execution_count": null,
   "metadata": {},
   "outputs": [],
   "source": [
    "df_new = df.merge(df_ref, how='left', on='제품명') # 두 개의 DataFrame 병합\n",
    "df_new"
   ]
  },
  {
   "cell_type": "code",
   "execution_count": null,
   "metadata": {},
   "outputs": [],
   "source": [
    "df_new = df_new[['주문번호','제품명','제품코드','제품가격','수량','발주처']]\n",
    "df_new"
   ]
  },
  {
   "cell_type": "markdown",
   "metadata": {},
   "source": [
    "**[7장: 362~363페이지]**"
   ]
  },
  {
   "cell_type": "code",
   "execution_count": null,
   "metadata": {},
   "outputs": [],
   "source": [
    "import pandas as pd\n",
    "\n",
    "# 엑셀 파일 경로 지정\n",
    "folder = 'C:/myPyExcel/data/ch07/func_data/'  # 폴더 지정 \n",
    "excel_file = folder + '주문내역_샘플.xlsx'    # 원본 엑셀 파일\n",
    "excel_file_ref = folder +'주문내역_참조데이터.xlsx' # 참조 데이터 표 엑셀 파일\n",
    "excel_file_new = folder + '주문내역_샘플_new.xlsx'  # 데이터를 추가한 엑셀 파일\n",
    "\n",
    "# excel_file을 DataFrame 데이터(df)로 읽어 오기\n",
    "df = pd.read_excel(excel_file)\n",
    "# excel_file_ref를 DataFrame 데이터(df_ref)로 읽어 오기\n",
    "df_ref = pd.read_excel(excel_file_ref) \n",
    "\n",
    "# 두 개의 DataFrame 데이터를 통합\n",
    "df_new = df.merge(df_ref, how='left', on='제품명') \n",
    "# DataFrame 데이터에서 열의 순서 변경\n",
    "df_new = df_new[['주문번호','제품명','제품코드','제품가격','수량','발주처']]\n",
    "\n",
    "# DataFrame 데이터를 엑셀 파일로 쓰기. 워크시트 이름 지정, index 불포함\n",
    "sheet_name1 = '참조 데이터 표 엑셀 파일 이용해서 데이터 입력'\n",
    "df_new.to_excel(excel_file_new, sheet_name=sheet_name1, index=False)\n",
    "\n",
    "print(\"생성한 엑셀 파일:\", excel_file_new) # 생성한 파일 이름 출력"
   ]
  },
  {
   "cell_type": "markdown",
   "metadata": {},
   "source": [
    "### 조건에 따라 결과 입력하기"
   ]
  },
  {
   "cell_type": "markdown",
   "metadata": {},
   "source": [
    "**[7장: 365페이지]**"
   ]
  },
  {
   "cell_type": "code",
   "execution_count": null,
   "metadata": {},
   "outputs": [],
   "source": [
    "import pandas as pd\n",
    "\n",
    "folder = 'C:/myPyExcel/data/ch07/condition_data/' # 폴더 지정 \n",
    "excel_file = folder + '시험성적.xlsx' # 원본 엑셀 파일\n",
    "\n",
    "df = pd.read_excel(excel_file)        # DataFrame 데이터(df)로 읽어 오기\n",
    "df"
   ]
  },
  {
   "cell_type": "code",
   "execution_count": null,
   "metadata": {},
   "outputs": [],
   "source": [
    "# 중간고사와 기말고사의 평균 구하기\n",
    "df_mean = df[['중간고사', '기말고사']].mean(axis=1) \n",
    "df_mean"
   ]
  },
  {
   "cell_type": "markdown",
   "metadata": {},
   "source": [
    "**[7장: 366페이지]**"
   ]
  },
  {
   "cell_type": "code",
   "execution_count": null,
   "metadata": {
    "scrolled": true
   },
   "outputs": [],
   "source": [
    "df['평균'] = df_mean\n",
    "df"
   ]
  },
  {
   "cell_type": "code",
   "execution_count": null,
   "metadata": {},
   "outputs": [],
   "source": [
    "df.loc[df['평균'] >= 90, '학점'] = 'A'\n",
    "df.loc[(df['평균'] >= 80) & (df['평균'] < 90), '학점'] = 'B'\n",
    "df.loc[df['평균'] < 80, '학점'] = 'C'\n",
    "df"
   ]
  },
  {
   "cell_type": "markdown",
   "metadata": {},
   "source": [
    "**[7장: 367페이지]**"
   ]
  },
  {
   "cell_type": "code",
   "execution_count": null,
   "metadata": {},
   "outputs": [],
   "source": [
    "import pandas as pd\n",
    "\n",
    "folder = 'C:/myPyExcel/data/ch07/condition_data/' # 폴더 지정 \n",
    "excel_file = folder + '시험성적.xlsx' # 원본 엑셀 파일\n",
    "excel_file_new = folder + '시험성적_new.xlsx' #  생성할 엑셀 파일\n",
    "\n",
    "# excel_file을 DataFrame 데이터(df)로 읽어 오기\n",
    "df = pd.read_excel(excel_file)\n",
    "# 중간고사와 기말고사의 평균 구하고 '평균'열에 추가하기\n",
    "df['평균']= df[['중간고사', '기말고사']].mean(axis = 1) \n",
    "\n",
    "# 평균에 따라서 학점 구분해 학점 열에 입력\n",
    "df.loc[df_mean >= 90, '학점'] = 'A'\n",
    "df.loc[(df_mean >= 80) & (df_mean < 90), '학점'] = 'B'\n",
    "df.loc[df_mean < 80, '학점'] = 'C'\n",
    "\n",
    "# DataFrame 데이터를 엑셀 파일로 쓰기. 워크시트 이름 지정, index 불포함\n",
    "sheet_name1 = \"시험 성적 및 평가 결과\"\n",
    "df.to_excel(excel_file_new, sheet_name=sheet_name1, index=False)\n",
    "\n",
    "print(\"생성한 엑셀 파일:\", excel_file_new) # 생성한 파일 이름 출력"
   ]
  },
  {
   "cell_type": "markdown",
   "metadata": {},
   "source": [
    "### 조건에 따라 다른 서식 적용하기"
   ]
  },
  {
   "cell_type": "markdown",
   "metadata": {},
   "source": [
    "**[7장: 369페이지]**"
   ]
  },
  {
   "cell_type": "code",
   "execution_count": null,
   "metadata": {},
   "outputs": [],
   "source": [
    "import pandas as pd\n",
    "\n",
    "folder = 'C:/myPyExcel/data/ch07/condition_data/' # 폴더 지정 \n",
    "excel_file = folder + '시험성적_new.xlsx' # 원본 엑셀 파일\n",
    "\n",
    "df = pd.read_excel(excel_file) # DataFrame 데이터(df)로 읽어 오기\n",
    "df"
   ]
  },
  {
   "cell_type": "markdown",
   "metadata": {},
   "source": [
    "**[7장: 370~371페이지]**"
   ]
  },
  {
   "cell_type": "code",
   "execution_count": null,
   "metadata": {},
   "outputs": [],
   "source": [
    "# (1) ExcelWriter 객체 생성 (엔진은 xlsxwriter)\n",
    "folder = 'C:/myPyExcel/data/ch07/condition_data/' # 폴더 지정 \n",
    "excel_file_new2 = folder + '시험성적_new2.xlsx'   # 원본 엑셀 파일\n",
    "\n",
    "# ExcelWriter 객체 생성\n",
    "excel_writer = pd.ExcelWriter(excel_file_new2, engine='xlsxwriter') \n",
    "\n",
    "# (2) DataFrame 데이터를 지정된 엑셀 워크시트에 쓰기\n",
    "# 워크시트 이름 지정. index는 불포함\n",
    "sheet_name1 = '조건부_서식'\n",
    "df.to_excel(excel_writer, sheet_name=sheet_name1, index=False) \n",
    "\n",
    "# (3) ExcelWriter 객체에서 워크북(workbook)과 워크시트(worksheet) 객체 생성 \n",
    "workbook  = excel_writer.book  # 워크북 객체 생성\n",
    "worksheet = excel_writer.sheets[sheet_name1] # 워크시트 객체 생성\n",
    "\n",
    "# (4) 셀 서식 지정을 위한 객체 생성\n",
    "cell_format = workbook.add_format() # 서식 형식 객체 생성\n",
    "\n",
    "# (5) 셀 서식 지정\n",
    "cell_format.set_bg_color('yellow') # 셀의 배경을 노란색으로 설정\n",
    " \n",
    "# (6) 조건부 서식 지정\n",
    "# 행 번호와 열 번호를 이용한 범위 지정 방식을 이용\n",
    "worksheet.conditional_format(1, 3, 10, 3, # 시작_행_번호, 시작_열_번호, 끝_행_번호, 끝_열_번호\n",
    "                             {'type': 'cell',    # 지정된 범위의 셀이\n",
    "                              'criteria': '>=',  # value 이상 이면\n",
    "                              'value': 90,         \n",
    "                              'format': cell_format}) # cell_format 서식 적용\n",
    "\n",
    "# 셀 주소를 이용한 범위 지정 방식을 이용\n",
    "# worksheet.conditional_format('D2:D11',  # 시작_셀_주소:끝_셀_주소\n",
    "#                              {'type': 'cell',    # 지정된 범위의 셀이\n",
    "#                               'criteria': '>=',  # value 이상 이면\n",
    "#                               'value': 90,         \n",
    "#                               'format': cell_format}) # cell_format 서식 적용\n",
    "\n",
    "# (7) # ExcelWriter 객체를 닫고 엑셀 파일로 저장\n",
    "excel_writer.save() \n",
    "\n",
    "print(\"생성한 엑셀 파일:\", excel_file_new2) # 생성한 파일 이름 출력"
   ]
  },
  {
   "cell_type": "markdown",
   "metadata": {},
   "source": [
    "## 7.5 엑셀 데이터 정제"
   ]
  },
  {
   "cell_type": "markdown",
   "metadata": {},
   "source": [
    "### 누락 데이터 확인과 처리"
   ]
  },
  {
   "cell_type": "markdown",
   "metadata": {},
   "source": [
    "**[7장: 373~374페이지]**"
   ]
  },
  {
   "cell_type": "code",
   "execution_count": null,
   "metadata": {
    "scrolled": true
   },
   "outputs": [],
   "source": [
    "import pandas as pd\n",
    "\n",
    "folder = 'C:/myPyExcel/data/ch07/missing_data/' # 폴더 지정 \n",
    "excel_file = folder + '자동차판매현황.xlsx' # 원본 엑셀 파일\n",
    "\n",
    "# 엑셀 파일을 DataFrame으로 읽기(index로 사용할 열 이름을 지정)\n",
    "df = pd.read_excel(excel_file, index_col='연도')\n",
    "df"
   ]
  },
  {
   "cell_type": "markdown",
   "metadata": {},
   "source": [
    "**[7장: 374페이지]**"
   ]
  },
  {
   "cell_type": "code",
   "execution_count": null,
   "metadata": {},
   "outputs": [],
   "source": [
    "df.info()"
   ]
  },
  {
   "cell_type": "markdown",
   "metadata": {},
   "source": [
    "**[7장: 376페이지]**"
   ]
  },
  {
   "cell_type": "code",
   "execution_count": null,
   "metadata": {},
   "outputs": [],
   "source": [
    "df.isnull() # DataFrame 데이터에서 결측치이면 True"
   ]
  },
  {
   "cell_type": "code",
   "execution_count": null,
   "metadata": {},
   "outputs": [],
   "source": [
    "df.isnull().sum() # DataFrame 각 열에서 결측치 개수 계산"
   ]
  },
  {
   "cell_type": "code",
   "execution_count": null,
   "metadata": {},
   "outputs": [],
   "source": [
    "df.notnull() # DataFrame 데이터에서 비결측치이면 True"
   ]
  },
  {
   "cell_type": "markdown",
   "metadata": {},
   "source": [
    "**[7장: 377페이지]**"
   ]
  },
  {
   "cell_type": "code",
   "execution_count": null,
   "metadata": {},
   "outputs": [],
   "source": [
    "df.notnull().sum() # DataFrame 각 열에서 비결측치 개수 계산"
   ]
  },
  {
   "cell_type": "markdown",
   "metadata": {},
   "source": [
    "**[7장: 378페이지]**"
   ]
  },
  {
   "cell_type": "code",
   "execution_count": null,
   "metadata": {},
   "outputs": [],
   "source": [
    "df"
   ]
  },
  {
   "cell_type": "code",
   "execution_count": null,
   "metadata": {},
   "outputs": [],
   "source": [
    "df.dropna(axis=0) # df.dropna()과 동일"
   ]
  },
  {
   "cell_type": "markdown",
   "metadata": {},
   "source": [
    "**[7장: 379페이지]**"
   ]
  },
  {
   "cell_type": "code",
   "execution_count": null,
   "metadata": {},
   "outputs": [],
   "source": [
    "df.dropna(axis=0, thresh=4)"
   ]
  },
  {
   "cell_type": "code",
   "execution_count": null,
   "metadata": {},
   "outputs": [],
   "source": [
    "df.dropna(axis=1)"
   ]
  },
  {
   "cell_type": "code",
   "execution_count": null,
   "metadata": {},
   "outputs": [],
   "source": [
    "df.dropna(axis=1, subset=[2018, 2019])"
   ]
  },
  {
   "cell_type": "markdown",
   "metadata": {},
   "source": [
    "**[7장: 380페이지]**"
   ]
  },
  {
   "cell_type": "code",
   "execution_count": null,
   "metadata": {},
   "outputs": [],
   "source": [
    "df.fillna(0) # df.fillna(value=0)과 동일"
   ]
  },
  {
   "cell_type": "markdown",
   "metadata": {},
   "source": [
    "**[7장: 381페이지]**"
   ]
  },
  {
   "cell_type": "code",
   "execution_count": null,
   "metadata": {},
   "outputs": [],
   "source": [
    "df.fillna(\"누락\") # df.fillna(value=\"누락\")과 동일"
   ]
  },
  {
   "cell_type": "code",
   "execution_count": null,
   "metadata": {
    "scrolled": false
   },
   "outputs": [],
   "source": [
    "df.fillna(method='bfill') # df.fillna(method='bfill', axis=0)과 동일"
   ]
  },
  {
   "cell_type": "markdown",
   "metadata": {},
   "source": [
    "**[7장: 382페이지]**"
   ]
  },
  {
   "cell_type": "code",
   "execution_count": null,
   "metadata": {},
   "outputs": [],
   "source": [
    "df.fillna(method='ffill') # df.fillna(method='ffill', axis=0)과 동일"
   ]
  },
  {
   "cell_type": "code",
   "execution_count": null,
   "metadata": {},
   "outputs": [],
   "source": [
    "# 딕셔너리를 이용해 열별로 채울 값을 지정\n",
    "values = {\"세단A\": 500, \"트럭X\":200, \"왜건K\": 0, \"밴Q\": 0 } \n",
    "\n",
    "df.fillna(values) # df.fillna(value=values)와 동일"
   ]
  },
  {
   "cell_type": "markdown",
   "metadata": {},
   "source": [
    "### 데이터 추출과 정리"
   ]
  },
  {
   "cell_type": "markdown",
   "metadata": {},
   "source": [
    "**[7장: 384~385페이지]**"
   ]
  },
  {
   "cell_type": "code",
   "execution_count": null,
   "metadata": {},
   "outputs": [],
   "source": [
    "import pandas as pd\n",
    "\n",
    "folder = 'C:/myPyExcel/data/ch07/transaction/raw/' # 폴더 지정 \n",
    "excel_file = folder + '거래명세서_No_1258115.xlsx' # 원본 엑셀 파일\n",
    "\n",
    "df = pd.read_excel(excel_file)\n",
    "df"
   ]
  },
  {
   "cell_type": "markdown",
   "metadata": {},
   "source": [
    "**[7장: 386페이지]**"
   ]
  },
  {
   "cell_type": "code",
   "execution_count": null,
   "metadata": {},
   "outputs": [],
   "source": [
    "# 특정 위치의 값 추출 후 리스트 생성\n",
    "column_names0 = [df.iloc[7][0], df.iloc[7][2], df.iloc[0][0]] \n",
    "# 특정 범위의 값 추출 후 리스트 생성\n",
    "column_names1 = list(df.iloc[11,1:6].values)                 \n",
    "\n",
    "column_names = column_names0 + column_names1 # 두 리스트의 결합\n",
    "column_names"
   ]
  },
  {
   "cell_type": "code",
   "execution_count": null,
   "metadata": {
    "scrolled": true
   },
   "outputs": [],
   "source": [
    "df_new = pd.DataFrame(columns = column_names)\n",
    "df_new"
   ]
  },
  {
   "cell_type": "markdown",
   "metadata": {},
   "source": [
    "**[7장: 386~387페이지]**"
   ]
  },
  {
   "cell_type": "code",
   "execution_count": null,
   "metadata": {},
   "outputs": [],
   "source": [
    "date = df.iloc[8][0]         # 작성 일차 추출\n",
    "issue_num = df.iloc[8][2]    # 발행 번호 추출\n",
    "company = df.iloc[0][1]      # 거래처 추출\n",
    "\n",
    "[date, issue_num, company]"
   ]
  },
  {
   "cell_type": "markdown",
   "metadata": {},
   "source": [
    "**[7장: 387페이지]**"
   ]
  },
  {
   "cell_type": "code",
   "execution_count": null,
   "metadata": {},
   "outputs": [],
   "source": [
    "date_new = date.strftime(\"%Y-%m-%d\") # datetime 형식의 데이터에서 날짜만 추출\n",
    "date_new"
   ]
  },
  {
   "cell_type": "code",
   "execution_count": null,
   "metadata": {},
   "outputs": [],
   "source": [
    "row_num = 6 # 추출한 DataFrame의 열 개수\n",
    "\n",
    "df_new[column_names[0]] = [date_new] * row_num   # 작성일자로 열 데이터 생성\n",
    "df_new[column_names[1]] = [issue_num] * row_num  # 발행번호로 열 데이터 생성\n",
    "df_new[column_names[2]] = [company] * row_num    # 거래처로 열 데이터 생성\n",
    "df_new"
   ]
  },
  {
   "cell_type": "markdown",
   "metadata": {},
   "source": [
    "**[7장: 388페이지]**"
   ]
  },
  {
   "cell_type": "code",
   "execution_count": null,
   "metadata": {},
   "outputs": [],
   "source": [
    "df_new[column_names[3]] = df.iloc[12:12+row_num, 1].values\n",
    "df_new"
   ]
  },
  {
   "cell_type": "code",
   "execution_count": null,
   "metadata": {},
   "outputs": [],
   "source": [
    "for k in range(5):\n",
    "    df_new[column_names[3+k]] = df.iloc[12:12+row_num, 1+k].values\n",
    "    \n",
    "df_new"
   ]
  },
  {
   "cell_type": "code",
   "execution_count": null,
   "metadata": {},
   "outputs": [],
   "source": [
    "df_new = df_new.dropna() # NaN이 들어간 데이터 제거\n",
    "df_new"
   ]
  },
  {
   "cell_type": "markdown",
   "metadata": {},
   "source": [
    "**[7장: 389~390페이지]**"
   ]
  },
  {
   "cell_type": "code",
   "execution_count": null,
   "metadata": {},
   "outputs": [],
   "source": [
    "# 함수 설명: 거래명세서 파일에서 필요 내용 추출해 DataFrame 데이터로 반환\n",
    "# 입력: excel_file(엑셀 파일), row_num(거래내역 최대 개수)\n",
    "# 출력: 새로운 구조의 DataFrame 데이터\n",
    " \n",
    "import pandas as pd\n",
    "\n",
    "def excel_data_extractor(excel_file, row_num):\n",
    "    \n",
    "    df = pd.read_excel(excel_file)\n",
    "    \n",
    "    # 특정 위치의 값 추출 후 리스트 생성\n",
    "    column_name0 = [ df.iloc[7][0], df.iloc[7][2], df.iloc[0][0] ] \n",
    "    # 특정 범위의 값 추출 후 리스트 생성\n",
    "    column_name1 = list(df.iloc[11,1:6].values)                 \n",
    "\n",
    "    column_names = column_name0 + column_name1 # 두 리스트를 결합\n",
    "\n",
    "    df_new = pd.DataFrame(columns=column_names)\n",
    "    \n",
    "    date = df.iloc[8][0]      # 작성 일차 추출\n",
    "    issue_num = df.iloc[8][2] # 발행 번호 추출\n",
    "    company = df.iloc[0][1]   # 거래처 추출\n",
    "    \n",
    "    date_new = date.strftime(\"%Y-%m-%d\") # datetime 형식의 데이터에서 날짜만 추출\n",
    "    \n",
    "    df_new[column_names[0]] = [date_new] * row_num  # 작성일자로 열 데이터 생성\n",
    "    df_new[column_names[1]] = [issue_num] * row_num # 발행번호로 열 데이터 생성\n",
    "    df_new[column_names[2]] = [company] * row_num   # 거래처로 열 데이터 생성\n",
    "\n",
    "    for k in range(5):\n",
    "        df_new[column_names[3+k]] = df.iloc[12:12+row_num, 1+k].values\n",
    "\n",
    "    df_new = df_new.dropna() # NaN이 들어간 행 제거\n",
    "        \n",
    "    return df_new"
   ]
  },
  {
   "cell_type": "markdown",
   "metadata": {},
   "source": [
    "**[7장: 390페이지]**"
   ]
  },
  {
   "cell_type": "code",
   "execution_count": null,
   "metadata": {},
   "outputs": [],
   "source": [
    "folder = 'C:/myPyExcel/data/ch07/transaction/raw/' # 폴더 지정 \n",
    "excel_file = folder + '거래명세서_No_1258115.xlsx' # 원본 엑셀 파일\n",
    "\n",
    "df1 = excel_data_extractor(excel_file, 6)\n",
    "df1"
   ]
  },
  {
   "cell_type": "markdown",
   "metadata": {},
   "source": [
    "**[7장: 392페이지]**"
   ]
  },
  {
   "cell_type": "code",
   "execution_count": null,
   "metadata": {},
   "outputs": [],
   "source": [
    "import pandas as pd\n",
    "from pathlib import Path\n",
    "\n",
    "folder = 'C:/myPyExcel/data/ch07/transaction/raw' # 폴더 지정\n",
    "raw_data_dir = Path(folder) # glob을 위한 디렉터리 설정 \n",
    "\n",
    "# '거래명세서_No'으로 시작하는 엑셀 파일 모두 가져오기\n",
    "excel_files = raw_data_dir.glob('거래명세서_No*.xlsx')  \n",
    "\n",
    "total_df = pd.DataFrame() # 빈 DataFrame 생성\n",
    "\n",
    "for excel_file in excel_files:\n",
    "    # 각 엑셀 파일에서 원하는 데이터 추출\n",
    "    df = excel_data_extractor(excel_file, 6) \n",
    "    # 세로 방향으로 DataFrame 데이터 통합하기, 순차적으로 index 증가\n",
    "    total_df = total_df.append(df, ignore_index=True)  \n",
    "\n",
    "total_df # 통합한 DataFrame 데이터 출력"
   ]
  },
  {
   "cell_type": "markdown",
   "metadata": {},
   "source": [
    "**[7장: 393페이지]**"
   ]
  },
  {
   "cell_type": "code",
   "execution_count": null,
   "metadata": {},
   "outputs": [],
   "source": [
    "import pandas as pd\n",
    "\n",
    "# 엑셀 경로\n",
    "folder = 'C:/myPyExcel/data/ch07/transaction/'     # 폴더 지정 \n",
    "merged_excel_file = folder + '거래명세서_데이터_추출_후_통합.xlsx' # 원본 엑셀 파일\n",
    "\n",
    "total_df.to_excel(merged_excel_file, index=False) # index 없이 쓰기 수행\n",
    "\n",
    "print(\"생성 파일:\", merged_excel_file) # 생성한 파일 이름 출력"
   ]
  },
  {
   "cell_type": "markdown",
   "metadata": {},
   "source": [
    "## 7.6 엑셀 데이터 요약과 집계"
   ]
  },
  {
   "cell_type": "markdown",
   "metadata": {},
   "source": [
    "### 피벗 테이블 만들기 기본"
   ]
  },
  {
   "cell_type": "markdown",
   "metadata": {},
   "source": [
    "**[7장: 396페이지]**"
   ]
  },
  {
   "cell_type": "code",
   "execution_count": null,
   "metadata": {
    "scrolled": true
   },
   "outputs": [],
   "source": [
    "import pandas as pd\n",
    "\n",
    "# 엑셀 경로\n",
    "folder = 'C:/myPyExcel/data/ch07/pivot_data/'        # 폴더 지정 \n",
    "excel_file = folder + '피벗_테이블_기본_데이터.xlsx' # 원본 엑셀 파일\n",
    "\n",
    "# 엑셀 데이터를 DataFrame으로 읽기\n",
    "df_coffee = pd.read_excel(excel_file, sheet_name='커피_판매현황_데이터') \n",
    "df_coffee"
   ]
  },
  {
   "cell_type": "markdown",
   "metadata": {},
   "source": [
    "**[7장: 398페이지]**"
   ]
  },
  {
   "cell_type": "code",
   "execution_count": null,
   "metadata": {},
   "outputs": [],
   "source": [
    "df_coffee.pivot_table(index=[\"메뉴\"], values=[\"주문개수\"], aggfunc='sum')"
   ]
  },
  {
   "cell_type": "code",
   "execution_count": null,
   "metadata": {},
   "outputs": [],
   "source": [
    "df_coffee.pivot_table(index=[\"메뉴\"], values=[\"주문개수\"], \n",
    "                      aggfunc='sum', margins=True)"
   ]
  },
  {
   "cell_type": "code",
   "execution_count": null,
   "metadata": {
    "scrolled": true
   },
   "outputs": [],
   "source": [
    "df_pivot = df_coffee.pivot_table(index=[\"메뉴\"], values=[\"주문개수\"], \n",
    "                                 aggfunc=['sum', 'count'], margins=True)\n",
    "df_pivot"
   ]
  },
  {
   "cell_type": "markdown",
   "metadata": {},
   "source": [
    "**[7장: 399페이지]**"
   ]
  },
  {
   "cell_type": "code",
   "execution_count": null,
   "metadata": {},
   "outputs": [],
   "source": [
    "# 엑셀 경로\n",
    "folder = 'C:/myPyExcel/data/ch07/pivot_data/' # 폴더 지정 \n",
    "excel_file = folder + '피벗_테이블_기본_데이터_집계_결과.xlsx' # 출력 엑셀 파일\n",
    "\n",
    "# DataFrame 데이터를 엑셀로 쓰기\n",
    "df_pivot.to_excel(excel_file, sheet_name='pivot_table')\n",
    "\n",
    "print(\"생성 파일:\", excel_file) # 생성한 파일 이름 출력"
   ]
  },
  {
   "cell_type": "markdown",
   "metadata": {},
   "source": [
    "### 피벗 테이블 만들기 심화"
   ]
  },
  {
   "cell_type": "markdown",
   "metadata": {},
   "source": [
    "**[7장: 402페이지]**"
   ]
  },
  {
   "cell_type": "code",
   "execution_count": null,
   "metadata": {
    "scrolled": true
   },
   "outputs": [],
   "source": [
    "import pandas as pd\n",
    "\n",
    "# 엑셀 경로\n",
    "folder = 'C:/myPyExcel/data/ch07/pivot_data/'        # 폴더 지정 \n",
    "excel_file = folder + '피벗_테이블_심화_데이터.xlsx' # 원본 엑셀 파일\n",
    "\n",
    "# 엑셀 데이터를 DataFrame으로 읽기\n",
    "df_product = pd.read_excel(excel_file, sheet_name='농수산물_판매현황_데이터')\n",
    "df_product"
   ]
  },
  {
   "cell_type": "markdown",
   "metadata": {},
   "source": [
    "**[7장: 403페이지]**"
   ]
  },
  {
   "cell_type": "code",
   "execution_count": null,
   "metadata": {},
   "outputs": [],
   "source": [
    "df_product.pivot_table(index=[\"구분\"], values=[\"주문량\"], \n",
    "                       aggfunc='sum', margins=True)"
   ]
  },
  {
   "cell_type": "markdown",
   "metadata": {},
   "source": [
    "**[7장: 404페이지]**"
   ]
  },
  {
   "cell_type": "code",
   "execution_count": null,
   "metadata": {
    "scrolled": true
   },
   "outputs": [],
   "source": [
    "df_product.pivot_table(index=[\"구분\", \"주문품\"], values=[\"주문량\"], \n",
    "                       aggfunc='sum', margins=True)"
   ]
  },
  {
   "cell_type": "code",
   "execution_count": null,
   "metadata": {
    "scrolled": true
   },
   "outputs": [],
   "source": [
    "df_product.pivot_table(index=[\"구분\", \"주문품\"], values=[\"주문량\"], \n",
    "                       columns=[\"마트\"], aggfunc='sum', margins=True)"
   ]
  },
  {
   "cell_type": "markdown",
   "metadata": {},
   "source": [
    "**[7장: 405페이지]**"
   ]
  },
  {
   "cell_type": "code",
   "execution_count": null,
   "metadata": {},
   "outputs": [],
   "source": [
    "df_pivot2 = df_product.pivot_table(index=[\"구분\", \"주문품\"], values=[\"주문량\"], \n",
    "                                   columns=[\"마트\"], aggfunc='sum', margins=True, \n",
    "                                   fill_value=0)\n",
    "df_pivot2"
   ]
  },
  {
   "cell_type": "code",
   "execution_count": null,
   "metadata": {},
   "outputs": [],
   "source": [
    "# 엑셀 경로\n",
    "folder = 'C:/myPyExcel/data/ch07/pivot_data/' # 폴더 지정 \n",
    "excel_file = folder + '피벗_테이블_심화_데이터_집계_결과.xlsx' # 출력 엑셀 파일 이름\n",
    "\n",
    "df_pivot2.to_excel(excel_file, sheet_name='pivot_table')       # DataFrame 데이터를 엑셀로 쓰기\n",
    "\n",
    "print(\"생성 파일:\", excel_file)                                # 생성한 파일 이름 출력"
   ]
  },
  {
   "cell_type": "markdown",
   "metadata": {},
   "source": [
    "**[7장: 406페이지]**"
   ]
  },
  {
   "cell_type": "code",
   "execution_count": null,
   "metadata": {},
   "outputs": [],
   "source": [
    "df_product.pivot_table(index=[\"구분\", \"주문품\"], values=[\"주문량\", \"판매액\"], \n",
    "                       columns =[\"마트\"], aggfunc='sum', margins=True, \n",
    "                       fill_value=0)"
   ]
  },
  {
   "cell_type": "markdown",
   "metadata": {},
   "source": [
    "**[7장: 407페이지]**"
   ]
  },
  {
   "cell_type": "code",
   "execution_count": null,
   "metadata": {},
   "outputs": [],
   "source": [
    "df_product.pivot_table(index=[\"마트\", \"구분\", \"주문품\"], values=[\"주문량\", \"판매액\"], \n",
    "                       aggfunc='sum', margins=True)"
   ]
  },
  {
   "cell_type": "code",
   "execution_count": null,
   "metadata": {},
   "outputs": [],
   "source": [
    "df_product.pivot_table(index=[\"마트\"], values=[\"주문량\", \"판매액\"], \n",
    "                       columns=['구분', '주문품'], aggfunc='sum', \n",
    "                       margins=True, fill_value=0)"
   ]
  },
  {
   "cell_type": "markdown",
   "metadata": {},
   "source": [
    "## 7.7 웹 페이지에서 데이터 가져오기"
   ]
  },
  {
   "cell_type": "markdown",
   "metadata": {},
   "source": [
    "### 표 데이터 가져오기 기본"
   ]
  },
  {
   "cell_type": "markdown",
   "metadata": {},
   "source": [
    "**[7장: 411페이지]**"
   ]
  },
  {
   "cell_type": "code",
   "execution_count": null,
   "metadata": {
    "scrolled": true
   },
   "outputs": [],
   "source": [
    "import pandas as pd\n",
    "\n",
    "url='https://search.naver.com/search.naver?sm=top_hty&fbm=0&ie=utf8&query=%ED%99%98%EC%9C%A8'\n",
    "\n",
    "# url에서 표 데이터를 추출해 DataFrame 데이터의 리스트로 반환\n",
    "dfs = pd.read_html(url)\n",
    "dfs"
   ]
  },
  {
   "cell_type": "markdown",
   "metadata": {},
   "source": [
    "**[7장: 412페이지]**"
   ]
  },
  {
   "cell_type": "code",
   "execution_count": null,
   "metadata": {},
   "outputs": [],
   "source": [
    "len(dfs)"
   ]
  },
  {
   "cell_type": "code",
   "execution_count": null,
   "metadata": {
    "scrolled": true
   },
   "outputs": [],
   "source": [
    "dfs[0]"
   ]
  },
  {
   "cell_type": "code",
   "execution_count": null,
   "metadata": {},
   "outputs": [],
   "source": [
    "exchange_rate_df = dfs[0].replace({'전일대비상승': '▲', \n",
    "                                   '전일대비하락': '▼'}, regex=True)\n",
    "exchange_rate_df"
   ]
  },
  {
   "cell_type": "markdown",
   "metadata": {},
   "source": [
    "**[7장: 413페이지]**"
   ]
  },
  {
   "cell_type": "code",
   "execution_count": null,
   "metadata": {},
   "outputs": [],
   "source": [
    "import pandas as pd\n",
    "\n",
    "url='https://search.naver.com/search.naver?sm=top_hty&fbm=0&ie=utf8&query=%ED%99%98%EC%9C%A8'\n",
    "\n",
    "# url에서 표 데이터를 추출해 DataFrame 데이터의 리스트로 반환\n",
    "dfs = pd.read_html(url) \n",
    "\n",
    "# DataFrame 데이터에서 문자열 변경\n",
    "exchange_rate_df = dfs[0].replace({'전일대비상승': '▲', \n",
    "                                   '전일대비하락': '▼'}, regex=True)\n",
    "\n",
    "# 엑셀 파일 경로\n",
    "folder =  'C:/myPyExcel/data/ch07/webpage_data/'\n",
    "excel_file = folder + \"네이버_환율_검색_결과_표_데이터.xlsx\" # 저장할 엑셀 파일\n",
    "\n",
    "# DataFrame의 index 없이 엑셀 파일로 저장\n",
    "exchange_rate_df.to_excel(excel_file, index=False) \n",
    "\n",
    "print(\"생성 파일:\", excel_file) # 엑셀 파일 이름 출력"
   ]
  },
  {
   "cell_type": "markdown",
   "metadata": {},
   "source": [
    "**[7장: 415페이지]**"
   ]
  },
  {
   "cell_type": "code",
   "execution_count": null,
   "metadata": {},
   "outputs": [],
   "source": [
    "import pandas as pd\n",
    "\n",
    "# 네이버 금융의 환율 정보 웹 사이트 주소\n",
    "url = 'https://finance.naver.com/marketindex/exchangeList.nhn' \n",
    "\n",
    "# 웹 사이트의 표 데이터에서 두 번째 줄을 DataFrame 데이터의 columns로 선택\n",
    "dfs = pd.read_html(url, header=1) \n",
    "\n",
    "dfs[0].head(9) # 전체 데이터 중 앞의 일부분만 표시"
   ]
  },
  {
   "cell_type": "code",
   "execution_count": null,
   "metadata": {},
   "outputs": [],
   "source": [
    "# 엑셀 파일 경로\n",
    "folder =  'C:/myPyExcel/data/ch07/webpage_data/'\n",
    "excel_file = folder + \"네이버_금융_환율_리스트.xlsx\" # 저장할 엑셀 파일\n",
    "\n",
    "# DataFrame의 index 없이 엑셀 파일로 저장\n",
    "dfs[0].to_excel(excel_file, index=False) \n",
    "\n",
    "print(\"생성 파일:\", excel_file) # 엑셀 파일 이름 출력"
   ]
  },
  {
   "cell_type": "markdown",
   "metadata": {},
   "source": [
    "### 표 데이터 가져오기 심화 \n",
    "\n",
    "> **내용 수정 알림**\n",
    ">\n",
    "> 7.7.2절 '표 데이터 가져오기 심화'(416 ~ 422쪽)에 사용한 '네이버뮤직' 서비스의 중단으로 벅스에서 음악 순위를 가져와 파일로 저장하는 내용으로 대체합니다. 이를 위한 PDF 파일은 아래 링크에서 다운로드할 수 있습니다.\n",
    ">\n",
    "> https://wikibook.co.kr/wp/wp-content/uploads/2021/01/일-잘하는-직장인을-위한-엑셀-자동화-with-파이썬_7.7.2.pdf\n",
    ">\n",
    "> 여기서는 대체된 7.7.2절의 내용을 반영한 코드를 제공합니다."
   ]
  },
  {
   "cell_type": "markdown",
   "metadata": {},
   "source": [
    "**[7장: 418페이지]**"
   ]
  },
  {
   "cell_type": "code",
   "execution_count": null,
   "metadata": {
    "scrolled": true
   },
   "outputs": [],
   "source": [
    "import pandas as pd\n",
    "\n",
    "base_url = 'https://music.bugs.co.kr/chart/track/week/total?'\n",
    "url = base_url + 'chartdate=20191104' # 2019년 11월 4일로 날짜를 지정\n",
    "\n",
    "# 웹 사이트의 표 데이터를 DataFrame 데이터 리스트로 반환\n",
    "dfs = pd.read_html(url) \n",
    "\n",
    "dfs[0].head(5) # 첫 번째 DataFrame 데이터(dfs[0])에 뮤직 차트가 있음 "
   ]
  },
  {
   "cell_type": "markdown",
   "metadata": {},
   "source": [
    "**[7장: 419페이지]**"
   ]
  },
  {
   "cell_type": "code",
   "execution_count": null,
   "metadata": {
    "scrolled": true
   },
   "outputs": [],
   "source": [
    "# 내장 함수 range()를 이용해 순위 열에 1에서 100까지 할당\n",
    "dfs[0]['순위'] = range(1,101)\n",
    "\n",
    "# 웹 사이트 표 데이터 중 원하는 열만 선택해 다른 변수에 지정\n",
    "df_top100 = dfs[0][['순위', '곡', '아티스트']]\n",
    "df_top100.head(5) # 처음 일부 데이터만 출력"
   ]
  },
  {
   "cell_type": "markdown",
   "metadata": {},
   "source": [
    "**[7장: 419~420페이지]**"
   ]
  },
  {
   "cell_type": "code",
   "execution_count": null,
   "metadata": {
    "scrolled": true
   },
   "outputs": [],
   "source": [
    "import pandas as pd\n",
    "\n",
    "# 벅스차트에서 연도, 월, 일을 지정해 주간 뮤직 차트(Top100)를 추출하는 함수\n",
    "# 반환 결과: DataFrame 데이터\n",
    "def bugs_chart_week_top100(year, month, day):\n",
    "    \n",
    "    # 월과 일의 경우는 항상 두 자리로 맞춤\n",
    "    month = \"{0:02d}\".format(month) \n",
    "    day = \"{0:02d}\".format(day) \n",
    "        \n",
    "    base_url = 'https://music.bugs.co.kr/chart/track/week/total?'        \n",
    "    url = base_url + 'chartdate={0}{1}{2}'.format(year, month, day)\n",
    "    \n",
    "    # 웹 사이트의 표 데이터를 DataFrame 데이터 리스트로 반환\n",
    "    dfs = pd.read_html(url) \n",
    "\n",
    "    # 내장 함수 range()를 이용해 순위 열에 1에서 100까지 할당\n",
    "    dfs[0]['순위'] = range(1,101)\n",
    "\n",
    "    # 웹 사이트 표 데이터 중 원하는 열만 선택해 다른 변수에 지정\n",
    "    df_top100 = dfs[0][['순위', '곡', '아티스트']] \n",
    "    \n",
    "    return df_top100"
   ]
  },
  {
   "cell_type": "markdown",
   "metadata": {},
   "source": [
    "**[7장: 420페이지]**"
   ]
  },
  {
   "cell_type": "code",
   "execution_count": null,
   "metadata": {},
   "outputs": [],
   "source": [
    "df = bugs_chart_week_top100(2020, 4, 8) # bugs_chart_week_top100() 함수를 호출\n",
    "df.head(10) # 처음 일부 데이터만 출력"
   ]
  },
  {
   "cell_type": "code",
   "execution_count": null,
   "metadata": {},
   "outputs": [],
   "source": [
    "folder =  'C:/myPyExcel/data/ch07/webpage_data/'\n",
    "excel_file = folder + \"벅스_차트_주간_Top100.xlsx\" # 저장할 엑셀 파일\n",
    "\n",
    "df.to_excel(excel_file, index=False) # DataFrame의 index 없이 엑셀 파일로 저장\n",
    "\n",
    "print(\"생성 파일:\", excel_file) # 엑셀 파일 이름 출력"
   ]
  },
  {
   "cell_type": "markdown",
   "metadata": {},
   "source": [
    "**[7장: 421~422페이지]**"
   ]
  },
  {
   "cell_type": "code",
   "execution_count": null,
   "metadata": {},
   "outputs": [],
   "source": [
    "folder =  'C:/myPyExcel/data/ch07/webpage_data/'\n",
    "excel_file = folder + \"벅스_차트_주간_Top100_2020년_11월.xlsx\" # 저장할 엑셀 파일\n",
    "\n",
    "year = 2020               # 연도 지정\n",
    "month = 11                # 월 지정\n",
    "days = [1, 8, 15, 22, 29] # 일 지정(일 주일 간격)\n",
    "\n",
    "with pd.ExcelWriter(excel_file, engine='xlsxwriter') as excel_writer:    \n",
    "    for day in days:\n",
    "        # 지정한 주의 top100 뮤직 차트 데이터 가져오기\n",
    "        df = bugs_chart_week_top100(year, month, day) \n",
    "\n",
    "        # DataFrame 데이터를 엑셀 파일로 저장\n",
    "        week = day//7 + 1 # 날짜를 주로 변환\n",
    "        week_name = '{0}주'.format(week)  # 시트 이름 지정\n",
    "        \n",
    "        # index 없이 시트 이름을 지정해 엑셀로 쓰기\n",
    "        df.to_excel(excel_writer, sheet_name=week_name, index=False) \n",
    "        \n",
    "print(\"생성 파일:\", excel_file) # 엑셀 파일 이름 출력"
   ]
  },
  {
   "cell_type": "markdown",
   "metadata": {},
   "source": [
    "## 7.8 정리"
   ]
  }
 ],
 "metadata": {
  "kernelspec": {
   "display_name": "Python 3 (ipykernel)",
   "language": "python",
   "name": "python3"
  },
  "language_info": {
   "codemirror_mode": {
    "name": "ipython",
    "version": 3
   },
   "file_extension": ".py",
   "mimetype": "text/x-python",
   "name": "python",
   "nbconvert_exporter": "python",
   "pygments_lexer": "ipython3",
   "version": "3.9.7"
  },
  "toc": {
   "base_numbering": "7",
   "nav_menu": {},
   "number_sections": false,
   "sideBar": true,
   "skip_h1_title": false,
   "title_cell": "Table of Contents",
   "title_sidebar": "Contents",
   "toc_cell": false,
   "toc_position": {
    "height": "calc(100% - 180px)",
    "left": "10px",
    "top": "150px",
    "width": "386.4px"
   },
   "toc_section_display": true,
   "toc_window_display": false
  }
 },
 "nbformat": 4,
 "nbformat_minor": 2
}
